{
 "cells": [
  {
   "cell_type": "markdown",
   "id": "f88055bf",
   "metadata": {},
   "source": [
    "Reference: https://excelsior-cjh.tistory.com/109"
   ]
  },
  {
   "cell_type": "code",
   "execution_count": 1,
   "id": "f3b9460f",
   "metadata": {},
   "outputs": [],
   "source": [
    "import pandas as pd\n",
    "import matplotlib.pyplot as plt\n",
    "import requests\n",
    "from bs4 import BeautifulSoup as bs\n",
    "from urllib.parse import urlparse\n",
    "from urllib.parse import parse_qs\n",
    "from selenium import webdriver\n",
    "from selenium.webdriver.chrome.options import Options\n",
    "from selenium.webdriver.chrome.service import Service\n",
    "from webdriver_manager.chrome import ChromeDriverManager\n",
    "import plotly.offline as offline\n",
    "import plotly.graph_objects as go\n",
    "from plotly.subplots import make_subplots"
   ]
  },
  {
   "cell_type": "markdown",
   "id": "a638a5db",
   "metadata": {},
   "source": [
    "Korea Exchange: https://kind.krx.co.kr/corpgeneral/corpList.do?method=loadInitPage"
   ]
  },
  {
   "cell_type": "code",
   "execution_count": 2,
   "id": "78d4929f",
   "metadata": {
    "scrolled": true
   },
   "outputs": [
    {
     "data": {
      "text/html": [
       "<div>\n",
       "<style scoped>\n",
       "    .dataframe tbody tr th:only-of-type {\n",
       "        vertical-align: middle;\n",
       "    }\n",
       "\n",
       "    .dataframe tbody tr th {\n",
       "        vertical-align: top;\n",
       "    }\n",
       "\n",
       "    .dataframe thead th {\n",
       "        text-align: right;\n",
       "    }\n",
       "</style>\n",
       "<table border=\"1\" class=\"dataframe\">\n",
       "  <thead>\n",
       "    <tr style=\"text-align: right;\">\n",
       "      <th></th>\n",
       "      <th>name</th>\n",
       "      <th>code</th>\n",
       "    </tr>\n",
       "  </thead>\n",
       "  <tbody>\n",
       "    <tr>\n",
       "      <th>2494</th>\n",
       "      <td>CJ대한통운</td>\n",
       "      <td>000120</td>\n",
       "    </tr>\n",
       "    <tr>\n",
       "      <th>2495</th>\n",
       "      <td>메리츠화재</td>\n",
       "      <td>000060</td>\n",
       "    </tr>\n",
       "    <tr>\n",
       "      <th>2496</th>\n",
       "      <td>경방</td>\n",
       "      <td>000050</td>\n",
       "    </tr>\n",
       "    <tr>\n",
       "      <th>2497</th>\n",
       "      <td>유수홀딩스</td>\n",
       "      <td>000700</td>\n",
       "    </tr>\n",
       "    <tr>\n",
       "      <th>2498</th>\n",
       "      <td>한진중공업홀딩스</td>\n",
       "      <td>003480</td>\n",
       "    </tr>\n",
       "  </tbody>\n",
       "</table>\n",
       "</div>"
      ],
      "text/plain": [
       "          name    code\n",
       "2494    CJ대한통운  000120\n",
       "2495     메리츠화재  000060\n",
       "2496        경방  000050\n",
       "2497     유수홀딩스  000700\n",
       "2498  한진중공업홀딩스  003480"
      ]
     },
     "execution_count": 2,
     "metadata": {},
     "output_type": "execute_result"
    }
   ],
   "source": [
    "raw_data = pd.read_html('상장법인목록.xls', converters={'종목코드':str})[0]\n",
    "stocks_data = raw_data.iloc[:, :2].copy()\n",
    "stocks_data.rename(columns={'회사명':'name', '종목코드': 'code'}, inplace=True)"
   ]
  },
  {
   "cell_type": "markdown",
   "id": "beb8de3e",
   "metadata": {},
   "source": [
    "NAVER Finance: https://finance.naver.com/"
   ]
  },
  {
   "cell_type": "code",
   "execution_count": 3,
   "id": "ed624c6e",
   "metadata": {},
   "outputs": [],
   "source": [
    "def find_stock_page_url(stock_name, stock_data):\n",
    "    stock_code = stock_data.loc[stock_data['name'] == f'{stock_name}']['code'].to_string(index=False)\n",
    "    url = f'https://finance.naver.com/item/sise.naver?code={stock_code}'\n",
    "    return url"
   ]
  },
  {
   "cell_type": "code",
   "execution_count": 4,
   "id": "74b91720",
   "metadata": {},
   "outputs": [],
   "source": [
    "options = Options()\n",
    "options.add_argument('--headless')\n",
    "path = './chromedriver_win32/chromedriver'\n",
    "service = Service(path)\n",
    "driver = webdriver.Chrome(service=service, options=options)"
   ]
  },
  {
   "cell_type": "code",
   "execution_count": 5,
   "id": "6e8f27c5",
   "metadata": {
    "scrolled": true
   },
   "outputs": [
    {
     "name": "stdout",
     "output_type": "stream",
     "text": [
      "iframe src URL: https://finance.naver.com/item/sise_day.naver?code=005930\n"
     ]
    }
   ],
   "source": [
    "stock_name = '삼성전자'\n",
    "naver_finance_url = 'https://finance.naver.com'\n",
    "stock_page_url = find_stock_page_url(stock_name, stocks_data)\n",
    "\n",
    "response = requests.get(stock_page_url)\n",
    "stock_page_soup = bs(response.content, 'html.parser')\n",
    "iframe_src = stock_page_soup.select('iframe[title=\"일별 시세\"]')[0].attrs['src']\n",
    "iframe_src_url = naver_finance_url + iframe_src\n",
    "print('iframe src URL:', iframe_src_url)"
   ]
  },
  {
   "cell_type": "code",
   "execution_count": 6,
   "id": "be96c7a7",
   "metadata": {
    "scrolled": true
   },
   "outputs": [
    {
     "name": "stdout",
     "output_type": "stream",
     "text": [
      "Last page number: 653\n"
     ]
    }
   ],
   "source": [
    "driver.get(iframe_src_url)\n",
    "iframe_src_html = driver.page_source\n",
    "sise_page_soup = bs(iframe_src_html, 'html.parser')\n",
    "\n",
    "last_page_url = sise_page_soup.select('table.Nnavi a')[-1]['href']\n",
    "parsed_url = urlparse(last_page_url)\n",
    "last_page_num = int(parse_qs(parsed_url.query)['page'][0])\n",
    "print('Last page number:', last_page_num)"
   ]
  },
  {
   "cell_type": "code",
   "execution_count": 7,
   "id": "75735025",
   "metadata": {
    "scrolled": false
   },
   "outputs": [
    {
     "data": {
      "text/html": [
       "<div>\n",
       "<style scoped>\n",
       "    .dataframe tbody tr th:only-of-type {\n",
       "        vertical-align: middle;\n",
       "    }\n",
       "\n",
       "    .dataframe tbody tr th {\n",
       "        vertical-align: top;\n",
       "    }\n",
       "\n",
       "    .dataframe thead th {\n",
       "        text-align: right;\n",
       "    }\n",
       "</style>\n",
       "<table border=\"1\" class=\"dataframe\">\n",
       "  <thead>\n",
       "    <tr style=\"text-align: right;\">\n",
       "      <th></th>\n",
       "      <th>date</th>\n",
       "      <th>closing price</th>\n",
       "      <th>change</th>\n",
       "      <th>opening price</th>\n",
       "      <th>highest</th>\n",
       "      <th>lowest</th>\n",
       "      <th>volume</th>\n",
       "    </tr>\n",
       "  </thead>\n",
       "  <tbody>\n",
       "    <tr>\n",
       "      <th>0</th>\n",
       "      <td>2021-11-12</td>\n",
       "      <td>70600.0</td>\n",
       "      <td>700.0</td>\n",
       "      <td>70200.0</td>\n",
       "      <td>70900.0</td>\n",
       "      <td>69900.0</td>\n",
       "      <td>10087450.0</td>\n",
       "    </tr>\n",
       "    <tr>\n",
       "      <th>1</th>\n",
       "      <td>2021-11-15</td>\n",
       "      <td>71400.0</td>\n",
       "      <td>800.0</td>\n",
       "      <td>71700.0</td>\n",
       "      <td>71900.0</td>\n",
       "      <td>70900.0</td>\n",
       "      <td>12420710.0</td>\n",
       "    </tr>\n",
       "    <tr>\n",
       "      <th>2</th>\n",
       "      <td>2021-11-16</td>\n",
       "      <td>71300.0</td>\n",
       "      <td>100.0</td>\n",
       "      <td>71500.0</td>\n",
       "      <td>72000.0</td>\n",
       "      <td>71300.0</td>\n",
       "      <td>10919239.0</td>\n",
       "    </tr>\n",
       "    <tr>\n",
       "      <th>3</th>\n",
       "      <td>2021-11-17</td>\n",
       "      <td>70700.0</td>\n",
       "      <td>600.0</td>\n",
       "      <td>71300.0</td>\n",
       "      <td>71600.0</td>\n",
       "      <td>70600.0</td>\n",
       "      <td>11027606.0</td>\n",
       "    </tr>\n",
       "    <tr>\n",
       "      <th>4</th>\n",
       "      <td>2021-11-18</td>\n",
       "      <td>70200.0</td>\n",
       "      <td>500.0</td>\n",
       "      <td>70700.0</td>\n",
       "      <td>71000.0</td>\n",
       "      <td>70200.0</td>\n",
       "      <td>10144957.0</td>\n",
       "    </tr>\n",
       "  </tbody>\n",
       "</table>\n",
       "</div>"
      ],
      "text/plain": [
       "        date  closing price  change  opening price  highest   lowest  \\\n",
       "0 2021-11-12        70600.0   700.0        70200.0  70900.0  69900.0   \n",
       "1 2021-11-15        71400.0   800.0        71700.0  71900.0  70900.0   \n",
       "2 2021-11-16        71300.0   100.0        71500.0  72000.0  71300.0   \n",
       "3 2021-11-17        70700.0   600.0        71300.0  71600.0  70600.0   \n",
       "4 2021-11-18        70200.0   500.0        70700.0  71000.0  70200.0   \n",
       "\n",
       "       volume  \n",
       "0  10087450.0  \n",
       "1  12420710.0  \n",
       "2  10919239.0  \n",
       "3  11027606.0  \n",
       "4  10144957.0  "
      ]
     },
     "execution_count": 7,
     "metadata": {},
     "output_type": "execute_result"
    }
   ],
   "source": [
    "sise_data = pd.DataFrame()\n",
    "pages_to_load = 15\n",
    "\n",
    "def get_sise_data(data, num):\n",
    "    sise_page_url = iframe_src_url + f'&page={num}'\n",
    "    driver.get(sise_page_url)\n",
    "    sise_page_html = driver.page_source\n",
    "    sise_page_data = pd.read_html(sise_page_html, header=0)[0]\n",
    "    sise_page_data.dropna(inplace=True)\n",
    "    concatenated_data = pd.concat([data, sise_page_data])\n",
    "    return concatenated_data\n",
    "\n",
    "if pages_to_load < last_page_num:\n",
    "    for page_num in range(1, pages_to_load+1):\n",
    "        sise_data = get_sise_data(sise_data, page_num)\n",
    "else:\n",
    "    for num in range(1, last_page_num+1):\n",
    "        sise_data = get_sise_data(sise_data, page_num)\n",
    "\n",
    "sise_data.rename(columns={'날짜':'date', '종가':'closing price', '전일비':'change', '시가':'opening price', '고가':'highest', '저가':'lowest', '거래량':'volume'}, inplace=True)\n",
    "sise_data[['closing price', 'change', 'opening price', 'highest', 'lowest', 'volume']] = sise_data[['closing price', 'change', 'opening price', 'highest', 'lowest', 'volume']].apply(pd.to_numeric)\n",
    "sise_data['date'] = pd.to_datetime(sise_data['date'])\n",
    "sise_data = sise_data.sort_values(by='date', ascending=True, ignore_index=True)\n",
    "sise_data.head()"
   ]
  },
  {
   "cell_type": "code",
   "execution_count": 8,
   "id": "9661ccbb",
   "metadata": {},
   "outputs": [
    {
     "data": {
      "image/png": "[encoded data removed]",
      "text/plain": [
       "<Figure size 432x288 with 1 Axes>"
      ]
     },
     "metadata": {
      "needs_background": "light"
     },
     "output_type": "display_data"
    }
   ],
   "source": [
    "plt.figure()\n",
    "plt.title('Closing Price', fontdict={'fontweight':'bold', 'fontsize':15})\n",
    "plt.plot(sise_data['date'], sise_data['closing price'])\n",
    "plt.xticks(rotation='60')\n",
    "plt.ylabel('KRW', fontsize=12)\n",
    "plt.grid()\n",
    "plt.show()"
   ]
  }
 ],
 "metadata": {
  "kernelspec": {
   "display_name": "Python 3 (ipykernel)",
   "language": "python",
   "name": "python3"
  },
  "language_info": {
   "codemirror_mode": {
    "name": "ipython",
    "version": 3
   },
   "file_extension": ".py",
   "mimetype": "text/x-python",
   "name": "python",
   "nbconvert_exporter": "python",
   "pygments_lexer": "ipython3",
   "version": "3.9.7"
  }
 },
 "nbformat": 4,
 "nbformat_minor": 5
}
