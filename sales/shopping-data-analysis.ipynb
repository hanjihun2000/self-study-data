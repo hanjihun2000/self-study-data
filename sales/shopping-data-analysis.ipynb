{
 "cells": [
  {
   "cell_type": "markdown",
   "id": "bbdab40f",
   "metadata": {},
   "source": [
    "# Shopping Sales Analysis"
   ]
  },
  {
   "cell_type": "code",
   "execution_count": 1,
   "id": "c00333ef",
   "metadata": {},
   "outputs": [],
   "source": [
    "import os\n",
    "import pandas as pd\n",
    "import matplotlib.pyplot as plt"
   ]
  },
  {
   "cell_type": "code",
   "execution_count": 2,
   "id": "9111c15e",
   "metadata": {
    "scrolled": false
   },
   "outputs": [
    {
     "data": {
      "text/html": [
       "<div>\n",
       "<style scoped>\n",
       "    .dataframe tbody tr th:only-of-type {\n",
       "        vertical-align: middle;\n",
       "    }\n",
       "\n",
       "    .dataframe tbody tr th {\n",
       "        vertical-align: top;\n",
       "    }\n",
       "\n",
       "    .dataframe thead th {\n",
       "        text-align: right;\n",
       "    }\n",
       "</style>\n",
       "<table border=\"1\" class=\"dataframe\">\n",
       "  <thead>\n",
       "    <tr style=\"text-align: right;\">\n",
       "      <th></th>\n",
       "      <th>Order ID</th>\n",
       "      <th>Product</th>\n",
       "      <th>Quantity Ordered</th>\n",
       "      <th>Price Each</th>\n",
       "      <th>Order Date</th>\n",
       "      <th>Purchase Address</th>\n",
       "    </tr>\n",
       "  </thead>\n",
       "  <tbody>\n",
       "    <tr>\n",
       "      <th>0</th>\n",
       "      <td>176558</td>\n",
       "      <td>USB-C Charging Cable</td>\n",
       "      <td>2</td>\n",
       "      <td>11.95</td>\n",
       "      <td>04/19/19 08:46</td>\n",
       "      <td>917 1st St, Dallas, TX 75001</td>\n",
       "    </tr>\n",
       "    <tr>\n",
       "      <th>2</th>\n",
       "      <td>176559</td>\n",
       "      <td>Bose SoundSport Headphones</td>\n",
       "      <td>1</td>\n",
       "      <td>99.99</td>\n",
       "      <td>04/07/19 22:30</td>\n",
       "      <td>682 Chestnut St, Boston, MA 02215</td>\n",
       "    </tr>\n",
       "    <tr>\n",
       "      <th>3</th>\n",
       "      <td>176560</td>\n",
       "      <td>Google Phone</td>\n",
       "      <td>1</td>\n",
       "      <td>600</td>\n",
       "      <td>04/12/19 14:38</td>\n",
       "      <td>669 Spruce St, Los Angeles, CA 90001</td>\n",
       "    </tr>\n",
       "    <tr>\n",
       "      <th>4</th>\n",
       "      <td>176560</td>\n",
       "      <td>Wired Headphones</td>\n",
       "      <td>1</td>\n",
       "      <td>11.99</td>\n",
       "      <td>04/12/19 14:38</td>\n",
       "      <td>669 Spruce St, Los Angeles, CA 90001</td>\n",
       "    </tr>\n",
       "    <tr>\n",
       "      <th>5</th>\n",
       "      <td>176561</td>\n",
       "      <td>Wired Headphones</td>\n",
       "      <td>1</td>\n",
       "      <td>11.99</td>\n",
       "      <td>04/30/19 09:27</td>\n",
       "      <td>333 8th St, Los Angeles, CA 90001</td>\n",
       "    </tr>\n",
       "  </tbody>\n",
       "</table>\n",
       "</div>"
      ],
      "text/plain": [
       "  Order ID                     Product Quantity Ordered Price Each  \\\n",
       "0   176558        USB-C Charging Cable                2      11.95   \n",
       "2   176559  Bose SoundSport Headphones                1      99.99   \n",
       "3   176560                Google Phone                1        600   \n",
       "4   176560            Wired Headphones                1      11.99   \n",
       "5   176561            Wired Headphones                1      11.99   \n",
       "\n",
       "       Order Date                      Purchase Address  \n",
       "0  04/19/19 08:46          917 1st St, Dallas, TX 75001  \n",
       "2  04/07/19 22:30     682 Chestnut St, Boston, MA 02215  \n",
       "3  04/12/19 14:38  669 Spruce St, Los Angeles, CA 90001  \n",
       "4  04/12/19 14:38  669 Spruce St, Los Angeles, CA 90001  \n",
       "5  04/30/19 09:27     333 8th St, Los Angeles, CA 90001  "
      ]
     },
     "execution_count": 2,
     "metadata": {},
     "output_type": "execute_result"
    }
   ],
   "source": [
    "df = pd.read_csv('sales.csv', index_col=False)\n",
    "df.dropna(axis=0, how='any', inplace=True) # drop any NaN values\n",
    "df.head()"
   ]
  },
  {
   "cell_type": "markdown",
   "id": "2151acdc",
   "metadata": {},
   "source": [
    "### Find the month that records the most sales revenue in 2019."
   ]
  },
  {
   "cell_type": "code",
   "execution_count": 3,
   "id": "187a4b25",
   "metadata": {
    "scrolled": true
   },
   "outputs": [
    {
     "data": {
      "text/html": [
       "<div>\n",
       "<style scoped>\n",
       "    .dataframe tbody tr th:only-of-type {\n",
       "        vertical-align: middle;\n",
       "    }\n",
       "\n",
       "    .dataframe tbody tr th {\n",
       "        vertical-align: top;\n",
       "    }\n",
       "\n",
       "    .dataframe thead th {\n",
       "        text-align: right;\n",
       "    }\n",
       "</style>\n",
       "<table border=\"1\" class=\"dataframe\">\n",
       "  <thead>\n",
       "    <tr style=\"text-align: right;\">\n",
       "      <th></th>\n",
       "      <th>Order ID</th>\n",
       "      <th>Product</th>\n",
       "      <th>Quantity Ordered</th>\n",
       "      <th>Price Each</th>\n",
       "      <th>Order Date</th>\n",
       "      <th>Purchase Address</th>\n",
       "      <th>Month</th>\n",
       "    </tr>\n",
       "  </thead>\n",
       "  <tbody>\n",
       "    <tr>\n",
       "      <th>0</th>\n",
       "      <td>176558</td>\n",
       "      <td>USB-C Charging Cable</td>\n",
       "      <td>2</td>\n",
       "      <td>11.95</td>\n",
       "      <td>04/19/19 08:46</td>\n",
       "      <td>917 1st St, Dallas, TX 75001</td>\n",
       "      <td>4</td>\n",
       "    </tr>\n",
       "    <tr>\n",
       "      <th>2</th>\n",
       "      <td>176559</td>\n",
       "      <td>Bose SoundSport Headphones</td>\n",
       "      <td>1</td>\n",
       "      <td>99.99</td>\n",
       "      <td>04/07/19 22:30</td>\n",
       "      <td>682 Chestnut St, Boston, MA 02215</td>\n",
       "      <td>4</td>\n",
       "    </tr>\n",
       "    <tr>\n",
       "      <th>3</th>\n",
       "      <td>176560</td>\n",
       "      <td>Google Phone</td>\n",
       "      <td>1</td>\n",
       "      <td>600</td>\n",
       "      <td>04/12/19 14:38</td>\n",
       "      <td>669 Spruce St, Los Angeles, CA 90001</td>\n",
       "      <td>4</td>\n",
       "    </tr>\n",
       "    <tr>\n",
       "      <th>4</th>\n",
       "      <td>176560</td>\n",
       "      <td>Wired Headphones</td>\n",
       "      <td>1</td>\n",
       "      <td>11.99</td>\n",
       "      <td>04/12/19 14:38</td>\n",
       "      <td>669 Spruce St, Los Angeles, CA 90001</td>\n",
       "      <td>4</td>\n",
       "    </tr>\n",
       "    <tr>\n",
       "      <th>5</th>\n",
       "      <td>176561</td>\n",
       "      <td>Wired Headphones</td>\n",
       "      <td>1</td>\n",
       "      <td>11.99</td>\n",
       "      <td>04/30/19 09:27</td>\n",
       "      <td>333 8th St, Los Angeles, CA 90001</td>\n",
       "      <td>4</td>\n",
       "    </tr>\n",
       "  </tbody>\n",
       "</table>\n",
       "</div>"
      ],
      "text/plain": [
       "  Order ID                     Product Quantity Ordered Price Each  \\\n",
       "0   176558        USB-C Charging Cable                2      11.95   \n",
       "2   176559  Bose SoundSport Headphones                1      99.99   \n",
       "3   176560                Google Phone                1        600   \n",
       "4   176560            Wired Headphones                1      11.99   \n",
       "5   176561            Wired Headphones                1      11.99   \n",
       "\n",
       "       Order Date                      Purchase Address  Month  \n",
       "0  04/19/19 08:46          917 1st St, Dallas, TX 75001      4  \n",
       "2  04/07/19 22:30     682 Chestnut St, Boston, MA 02215      4  \n",
       "3  04/12/19 14:38  669 Spruce St, Los Angeles, CA 90001      4  \n",
       "4  04/12/19 14:38  669 Spruce St, Los Angeles, CA 90001      4  \n",
       "5  04/30/19 09:27     333 8th St, Los Angeles, CA 90001      4  "
      ]
     },
     "execution_count": 3,
     "metadata": {},
     "output_type": "execute_result"
    }
   ],
   "source": [
    "df = df[df['Order Date'].str[0:2] != 'Or'] # remove rows that contains unnecessary string\n",
    "df['Month'] = df['Order Date'].str[0:2].astype('int8') # add 'Month' column\n",
    "df.head()"
   ]
  },
  {
   "cell_type": "code",
   "execution_count": 4,
   "id": "58085112",
   "metadata": {},
   "outputs": [
    {
     "data": {
      "text/html": [
       "<div>\n",
       "<style scoped>\n",
       "    .dataframe tbody tr th:only-of-type {\n",
       "        vertical-align: middle;\n",
       "    }\n",
       "\n",
       "    .dataframe tbody tr th {\n",
       "        vertical-align: top;\n",
       "    }\n",
       "\n",
       "    .dataframe thead th {\n",
       "        text-align: right;\n",
       "    }\n",
       "</style>\n",
       "<table border=\"1\" class=\"dataframe\">\n",
       "  <thead>\n",
       "    <tr style=\"text-align: right;\">\n",
       "      <th></th>\n",
       "      <th>Order ID</th>\n",
       "      <th>Product</th>\n",
       "      <th>Quantity Ordered</th>\n",
       "      <th>Price Each</th>\n",
       "      <th>Sales</th>\n",
       "      <th>Order Date</th>\n",
       "      <th>Month</th>\n",
       "      <th>Purchase Address</th>\n",
       "    </tr>\n",
       "  </thead>\n",
       "  <tbody>\n",
       "    <tr>\n",
       "      <th>0</th>\n",
       "      <td>176558</td>\n",
       "      <td>USB-C Charging Cable</td>\n",
       "      <td>2</td>\n",
       "      <td>11.95</td>\n",
       "      <td>23.90</td>\n",
       "      <td>04/19/19 08:46</td>\n",
       "      <td>4</td>\n",
       "      <td>917 1st St, Dallas, TX 75001</td>\n",
       "    </tr>\n",
       "    <tr>\n",
       "      <th>2</th>\n",
       "      <td>176559</td>\n",
       "      <td>Bose SoundSport Headphones</td>\n",
       "      <td>1</td>\n",
       "      <td>99.99</td>\n",
       "      <td>99.99</td>\n",
       "      <td>04/07/19 22:30</td>\n",
       "      <td>4</td>\n",
       "      <td>682 Chestnut St, Boston, MA 02215</td>\n",
       "    </tr>\n",
       "    <tr>\n",
       "      <th>3</th>\n",
       "      <td>176560</td>\n",
       "      <td>Google Phone</td>\n",
       "      <td>1</td>\n",
       "      <td>600.00</td>\n",
       "      <td>600.00</td>\n",
       "      <td>04/12/19 14:38</td>\n",
       "      <td>4</td>\n",
       "      <td>669 Spruce St, Los Angeles, CA 90001</td>\n",
       "    </tr>\n",
       "    <tr>\n",
       "      <th>4</th>\n",
       "      <td>176560</td>\n",
       "      <td>Wired Headphones</td>\n",
       "      <td>1</td>\n",
       "      <td>11.99</td>\n",
       "      <td>11.99</td>\n",
       "      <td>04/12/19 14:38</td>\n",
       "      <td>4</td>\n",
       "      <td>669 Spruce St, Los Angeles, CA 90001</td>\n",
       "    </tr>\n",
       "    <tr>\n",
       "      <th>5</th>\n",
       "      <td>176561</td>\n",
       "      <td>Wired Headphones</td>\n",
       "      <td>1</td>\n",
       "      <td>11.99</td>\n",
       "      <td>11.99</td>\n",
       "      <td>04/30/19 09:27</td>\n",
       "      <td>4</td>\n",
       "      <td>333 8th St, Los Angeles, CA 90001</td>\n",
       "    </tr>\n",
       "  </tbody>\n",
       "</table>\n",
       "</div>"
      ],
      "text/plain": [
       "  Order ID                     Product  Quantity Ordered  Price Each   Sales  \\\n",
       "0   176558        USB-C Charging Cable                 2       11.95   23.90   \n",
       "2   176559  Bose SoundSport Headphones                 1       99.99   99.99   \n",
       "3   176560                Google Phone                 1      600.00  600.00   \n",
       "4   176560            Wired Headphones                 1       11.99   11.99   \n",
       "5   176561            Wired Headphones                 1       11.99   11.99   \n",
       "\n",
       "       Order Date  Month                      Purchase Address  \n",
       "0  04/19/19 08:46      4          917 1st St, Dallas, TX 75001  \n",
       "2  04/07/19 22:30      4     682 Chestnut St, Boston, MA 02215  \n",
       "3  04/12/19 14:38      4  669 Spruce St, Los Angeles, CA 90001  \n",
       "4  04/12/19 14:38      4  669 Spruce St, Los Angeles, CA 90001  \n",
       "5  04/30/19 09:27      4     333 8th St, Los Angeles, CA 90001  "
      ]
     },
     "execution_count": 4,
     "metadata": {},
     "output_type": "execute_result"
    }
   ],
   "source": [
    "df['Quantity Ordered'] = pd.to_numeric(df['Quantity Ordered'])\n",
    "df['Price Each'] = pd.to_numeric(df['Price Each'])\n",
    "df['Sales'] = df['Quantity Ordered'] * df['Price Each'] # add 'Sales' column\n",
    "df = df.reindex(['Order ID', 'Product', 'Quantity Ordered', 'Price Each', 'Sales', 'Order Date', 'Month', 'Purchase Address'], axis=1)\n",
    "df.head()"
   ]
  },
  {
   "cell_type": "code",
   "execution_count": 5,
   "id": "ee25d60c",
   "metadata": {},
   "outputs": [
    {
     "data": {
      "image/png": "[encoded data removed]",
      "text/plain": [
       "<Figure size 432x288 with 1 Axes>"
      ]
     },
     "metadata": {
      "needs_background": "light"
     },
     "output_type": "display_data"
    }
   ],
   "source": [
    "sales_month_result = df.groupby('Month').sum()['Sales']\n",
    "months = range(1, 13)\n",
    "\n",
    "plt.bar(months, sales_month_result)\n",
    "plt.xticks(months)\n",
    "plt.xlabel('Months')\n",
    "plt.ylabel('Sales ($)')\n",
    "plt.ticklabel_format(style='plain') # disable scientific notation on the y-axis\n",
    "plt.show()"
   ]
  },
  {
   "cell_type": "markdown",
   "id": "8b3d5ead",
   "metadata": {},
   "source": [
    "### Find the city that achieved the most sales revenue in 2019."
   ]
  },
  {
   "cell_type": "code",
   "execution_count": 6,
   "id": "165c5cdf",
   "metadata": {},
   "outputs": [
    {
     "data": {
      "text/html": [
       "<div>\n",
       "<style scoped>\n",
       "    .dataframe tbody tr th:only-of-type {\n",
       "        vertical-align: middle;\n",
       "    }\n",
       "\n",
       "    .dataframe tbody tr th {\n",
       "        vertical-align: top;\n",
       "    }\n",
       "\n",
       "    .dataframe thead th {\n",
       "        text-align: right;\n",
       "    }\n",
       "</style>\n",
       "<table border=\"1\" class=\"dataframe\">\n",
       "  <thead>\n",
       "    <tr style=\"text-align: right;\">\n",
       "      <th></th>\n",
       "      <th>Order ID</th>\n",
       "      <th>Product</th>\n",
       "      <th>Quantity Ordered</th>\n",
       "      <th>Price Each</th>\n",
       "      <th>Sales</th>\n",
       "      <th>Order Date</th>\n",
       "      <th>Month</th>\n",
       "      <th>Purchase Address</th>\n",
       "      <th>City</th>\n",
       "    </tr>\n",
       "  </thead>\n",
       "  <tbody>\n",
       "    <tr>\n",
       "      <th>0</th>\n",
       "      <td>176558</td>\n",
       "      <td>USB-C Charging Cable</td>\n",
       "      <td>2</td>\n",
       "      <td>11.95</td>\n",
       "      <td>23.90</td>\n",
       "      <td>04/19/19 08:46</td>\n",
       "      <td>4</td>\n",
       "      <td>917 1st St, Dallas, TX 75001</td>\n",
       "      <td>Dallas (TX)</td>\n",
       "    </tr>\n",
       "    <tr>\n",
       "      <th>2</th>\n",
       "      <td>176559</td>\n",
       "      <td>Bose SoundSport Headphones</td>\n",
       "      <td>1</td>\n",
       "      <td>99.99</td>\n",
       "      <td>99.99</td>\n",
       "      <td>04/07/19 22:30</td>\n",
       "      <td>4</td>\n",
       "      <td>682 Chestnut St, Boston, MA 02215</td>\n",
       "      <td>Boston (MA)</td>\n",
       "    </tr>\n",
       "    <tr>\n",
       "      <th>3</th>\n",
       "      <td>176560</td>\n",
       "      <td>Google Phone</td>\n",
       "      <td>1</td>\n",
       "      <td>600.00</td>\n",
       "      <td>600.00</td>\n",
       "      <td>04/12/19 14:38</td>\n",
       "      <td>4</td>\n",
       "      <td>669 Spruce St, Los Angeles, CA 90001</td>\n",
       "      <td>Los Angeles (CA)</td>\n",
       "    </tr>\n",
       "    <tr>\n",
       "      <th>4</th>\n",
       "      <td>176560</td>\n",
       "      <td>Wired Headphones</td>\n",
       "      <td>1</td>\n",
       "      <td>11.99</td>\n",
       "      <td>11.99</td>\n",
       "      <td>04/12/19 14:38</td>\n",
       "      <td>4</td>\n",
       "      <td>669 Spruce St, Los Angeles, CA 90001</td>\n",
       "      <td>Los Angeles (CA)</td>\n",
       "    </tr>\n",
       "    <tr>\n",
       "      <th>5</th>\n",
       "      <td>176561</td>\n",
       "      <td>Wired Headphones</td>\n",
       "      <td>1</td>\n",
       "      <td>11.99</td>\n",
       "      <td>11.99</td>\n",
       "      <td>04/30/19 09:27</td>\n",
       "      <td>4</td>\n",
       "      <td>333 8th St, Los Angeles, CA 90001</td>\n",
       "      <td>Los Angeles (CA)</td>\n",
       "    </tr>\n",
       "  </tbody>\n",
       "</table>\n",
       "</div>"
      ],
      "text/plain": [
       "  Order ID                     Product  Quantity Ordered  Price Each   Sales  \\\n",
       "0   176558        USB-C Charging Cable                 2       11.95   23.90   \n",
       "2   176559  Bose SoundSport Headphones                 1       99.99   99.99   \n",
       "3   176560                Google Phone                 1      600.00  600.00   \n",
       "4   176560            Wired Headphones                 1       11.99   11.99   \n",
       "5   176561            Wired Headphones                 1       11.99   11.99   \n",
       "\n",
       "       Order Date  Month                      Purchase Address  \\\n",
       "0  04/19/19 08:46      4          917 1st St, Dallas, TX 75001   \n",
       "2  04/07/19 22:30      4     682 Chestnut St, Boston, MA 02215   \n",
       "3  04/12/19 14:38      4  669 Spruce St, Los Angeles, CA 90001   \n",
       "4  04/12/19 14:38      4  669 Spruce St, Los Angeles, CA 90001   \n",
       "5  04/30/19 09:27      4     333 8th St, Los Angeles, CA 90001   \n",
       "\n",
       "                City  \n",
       "0        Dallas (TX)  \n",
       "2        Boston (MA)  \n",
       "3   Los Angeles (CA)  \n",
       "4   Los Angeles (CA)  \n",
       "5   Los Angeles (CA)  "
      ]
     },
     "execution_count": 6,
     "metadata": {},
     "output_type": "execute_result"
    }
   ],
   "source": [
    "def get_city(address):\n",
    "    return address.split(',')[1]\n",
    "\n",
    "def get_state(address):\n",
    "    return address.split(',')[2].split(' ')[1]\n",
    "\n",
    "df['City'] = df['Purchase Address'].apply(lambda x: f\"{get_city(x)} ({get_state(x)})\") # add 'City' column\n",
    "df.head()"
   ]
  },
  {
   "cell_type": "code",
   "execution_count": 7,
   "id": "aa04713b",
   "metadata": {
    "scrolled": false
   },
   "outputs": [
    {
     "data": {
      "image/png": "[encoded data removed]",
      "text/plain": [
       "<Figure size 432x288 with 1 Axes>"
      ]
     },
     "metadata": {
      "needs_background": "light"
     },
     "output_type": "display_data"
    }
   ],
   "source": [
    "sales_city_result = df.groupby('City').sum()['Sales']\n",
    "\n",
    "cities = [city for city, df in df.groupby('City')]\n",
    "\n",
    "plt.bar(cities, sales_city_result)\n",
    "plt.xticks(rotation='vertical')\n",
    "plt.xlabel('City')\n",
    "plt.ylabel('Sales ($)')\n",
    "plt.ticklabel_format(axis='y', style='plain')\n",
    "plt.show()"
   ]
  },
  {
   "cell_type": "markdown",
   "id": "deb1766a",
   "metadata": {},
   "source": [
    "### Find a particular time period where customers are most likely to purchase."
   ]
  },
  {
   "cell_type": "code",
   "execution_count": 8,
   "id": "2a41143c",
   "metadata": {},
   "outputs": [
    {
     "data": {
      "text/html": [
       "<div>\n",
       "<style scoped>\n",
       "    .dataframe tbody tr th:only-of-type {\n",
       "        vertical-align: middle;\n",
       "    }\n",
       "\n",
       "    .dataframe tbody tr th {\n",
       "        vertical-align: top;\n",
       "    }\n",
       "\n",
       "    .dataframe thead th {\n",
       "        text-align: right;\n",
       "    }\n",
       "</style>\n",
       "<table border=\"1\" class=\"dataframe\">\n",
       "  <thead>\n",
       "    <tr style=\"text-align: right;\">\n",
       "      <th></th>\n",
       "      <th>Order ID</th>\n",
       "      <th>Product</th>\n",
       "      <th>Quantity Ordered</th>\n",
       "      <th>Price Each</th>\n",
       "      <th>Sales</th>\n",
       "      <th>Order Date</th>\n",
       "      <th>Hour</th>\n",
       "      <th>Month</th>\n",
       "      <th>Purchase Address</th>\n",
       "      <th>City</th>\n",
       "    </tr>\n",
       "  </thead>\n",
       "  <tbody>\n",
       "    <tr>\n",
       "      <th>0</th>\n",
       "      <td>176558</td>\n",
       "      <td>USB-C Charging Cable</td>\n",
       "      <td>2</td>\n",
       "      <td>11.95</td>\n",
       "      <td>23.90</td>\n",
       "      <td>2019-04-19 08:46:00</td>\n",
       "      <td>8</td>\n",
       "      <td>4</td>\n",
       "      <td>917 1st St, Dallas, TX 75001</td>\n",
       "      <td>Dallas (TX)</td>\n",
       "    </tr>\n",
       "    <tr>\n",
       "      <th>2</th>\n",
       "      <td>176559</td>\n",
       "      <td>Bose SoundSport Headphones</td>\n",
       "      <td>1</td>\n",
       "      <td>99.99</td>\n",
       "      <td>99.99</td>\n",
       "      <td>2019-04-07 22:30:00</td>\n",
       "      <td>22</td>\n",
       "      <td>4</td>\n",
       "      <td>682 Chestnut St, Boston, MA 02215</td>\n",
       "      <td>Boston (MA)</td>\n",
       "    </tr>\n",
       "    <tr>\n",
       "      <th>3</th>\n",
       "      <td>176560</td>\n",
       "      <td>Google Phone</td>\n",
       "      <td>1</td>\n",
       "      <td>600.00</td>\n",
       "      <td>600.00</td>\n",
       "      <td>2019-04-12 14:38:00</td>\n",
       "      <td>14</td>\n",
       "      <td>4</td>\n",
       "      <td>669 Spruce St, Los Angeles, CA 90001</td>\n",
       "      <td>Los Angeles (CA)</td>\n",
       "    </tr>\n",
       "    <tr>\n",
       "      <th>4</th>\n",
       "      <td>176560</td>\n",
       "      <td>Wired Headphones</td>\n",
       "      <td>1</td>\n",
       "      <td>11.99</td>\n",
       "      <td>11.99</td>\n",
       "      <td>2019-04-12 14:38:00</td>\n",
       "      <td>14</td>\n",
       "      <td>4</td>\n",
       "      <td>669 Spruce St, Los Angeles, CA 90001</td>\n",
       "      <td>Los Angeles (CA)</td>\n",
       "    </tr>\n",
       "    <tr>\n",
       "      <th>5</th>\n",
       "      <td>176561</td>\n",
       "      <td>Wired Headphones</td>\n",
       "      <td>1</td>\n",
       "      <td>11.99</td>\n",
       "      <td>11.99</td>\n",
       "      <td>2019-04-30 09:27:00</td>\n",
       "      <td>9</td>\n",
       "      <td>4</td>\n",
       "      <td>333 8th St, Los Angeles, CA 90001</td>\n",
       "      <td>Los Angeles (CA)</td>\n",
       "    </tr>\n",
       "  </tbody>\n",
       "</table>\n",
       "</div>"
      ],
      "text/plain": [
       "  Order ID                     Product  Quantity Ordered  Price Each   Sales  \\\n",
       "0   176558        USB-C Charging Cable                 2       11.95   23.90   \n",
       "2   176559  Bose SoundSport Headphones                 1       99.99   99.99   \n",
       "3   176560                Google Phone                 1      600.00  600.00   \n",
       "4   176560            Wired Headphones                 1       11.99   11.99   \n",
       "5   176561            Wired Headphones                 1       11.99   11.99   \n",
       "\n",
       "           Order Date  Hour  Month                      Purchase Address  \\\n",
       "0 2019-04-19 08:46:00     8      4          917 1st St, Dallas, TX 75001   \n",
       "2 2019-04-07 22:30:00    22      4     682 Chestnut St, Boston, MA 02215   \n",
       "3 2019-04-12 14:38:00    14      4  669 Spruce St, Los Angeles, CA 90001   \n",
       "4 2019-04-12 14:38:00    14      4  669 Spruce St, Los Angeles, CA 90001   \n",
       "5 2019-04-30 09:27:00     9      4     333 8th St, Los Angeles, CA 90001   \n",
       "\n",
       "                City  \n",
       "0        Dallas (TX)  \n",
       "2        Boston (MA)  \n",
       "3   Los Angeles (CA)  \n",
       "4   Los Angeles (CA)  \n",
       "5   Los Angeles (CA)  "
      ]
     },
     "execution_count": 8,
     "metadata": {},
     "output_type": "execute_result"
    }
   ],
   "source": [
    "df['Order Date'] = pd.to_datetime(df['Order Date']) # use pd.to_datetime() to convert string object 'Order Date' to datetime object\n",
    "df['Hour'] = df['Order Date'].dt.hour # add 'Hour' column\n",
    "df = df.reindex(['Order ID', 'Product', 'Quantity Ordered', 'Price Each', 'Sales', 'Order Date', 'Hour', 'Month', 'Purchase Address', 'City'], axis=1)\n",
    "df.head()"
   ]
  },
  {
   "cell_type": "code",
   "execution_count": 9,
   "id": "2d49140f",
   "metadata": {
    "scrolled": true
   },
   "outputs": [
    {
     "data": {
      "image/png": "[encoded data removed]",
      "text/plain": [
       "<Figure size 432x288 with 1 Axes>"
      ]
     },
     "metadata": {
      "needs_background": "light"
     },
     "output_type": "display_data"
    }
   ],
   "source": [
    "hours = [hour for hour, df in df.groupby('Hour')]\n",
    "orders = df.groupby('Hour').count()\n",
    "\n",
    "plt.plot(hours, orders)\n",
    "plt.xticks(hours)\n",
    "plt.xlabel('Hour')\n",
    "plt.ylabel('Number of Orders')\n",
    "plt.grid()\n",
    "plt.show()"
   ]
  },
  {
   "cell_type": "markdown",
   "id": "92792bc8",
   "metadata": {},
   "source": [
    "The above plot shows that customers are purchasing their products mostly at 12pm and 7pm. So, it is optimal to display advertisements at around 12pm and 7pm to maximize the sales."
   ]
  },
  {
   "cell_type": "markdown",
   "id": "8fba4178",
   "metadata": {},
   "source": [
    "### Find products that are most likely to purchase together."
   ]
  },
  {
   "cell_type": "code",
   "execution_count": 10,
   "id": "76329b48",
   "metadata": {},
   "outputs": [],
   "source": [
    "orders = df[df.duplicated(subset=['Order ID'], keep=False)]"
   ]
  },
  {
   "cell_type": "code",
   "execution_count": 11,
   "id": "0114b790",
   "metadata": {},
   "outputs": [
    {
     "name": "stdout",
     "output_type": "stream",
     "text": [
      "('iPhone', 'Lightning Charging Cable') 1005\n",
      "('Google Phone', 'USB-C Charging Cable') 987\n",
      "('iPhone', 'Wired Headphones') 447\n",
      "('Google Phone', 'Wired Headphones') 414\n",
      "('Vareebadd Phone', 'USB-C Charging Cable') 361\n",
      "('iPhone', 'Apple Airpods Headphones') 360\n",
      "('Google Phone', 'Bose SoundSport Headphones') 220\n",
      "('USB-C Charging Cable', 'Wired Headphones') 160\n",
      "('Vareebadd Phone', 'Wired Headphones') 143\n",
      "('Lightning Charging Cable', 'Wired Headphones') 92\n"
     ]
    }
   ],
   "source": [
    "from itertools import combinations\n",
    "from collections import Counter\n",
    "\n",
    "count = Counter()\n",
    "orders = orders.groupby(['Order ID'])['Product'].apply(','.join).reset_index()\n",
    "\n",
    "for row in orders['Product']:\n",
    "    products = row.split(',')\n",
    "    count.update(Counter(combinations(products, 2)))\n",
    "    \n",
    "for key, value in count.most_common(10):\n",
    "    print(key, value)"
   ]
  },
  {
   "cell_type": "code",
   "execution_count": 12,
   "id": "a1ddcf21",
   "metadata": {},
   "outputs": [
    {
     "data": {
      "image/png": "[encoded data removed]",
      "text/plain": [
       "<Figure size 432x288 with 1 Axes>"
      ]
     },
     "metadata": {
      "needs_background": "light"
     },
     "output_type": "display_data"
    }
   ],
   "source": [
    "quantities = df.groupby(['Product']).sum()['Quantity Ordered']\n",
    "products = [product for product, df in df.groupby(['Product'])]\n",
    "\n",
    "plt.bar(products, quantities)\n",
    "plt.xticks(rotation='vertical')\n",
    "plt.xlabel('Product')\n",
    "plt.ylabel('Quantity Ordered')\n",
    "plt.show()"
   ]
  },
  {
   "cell_type": "code",
   "execution_count": 13,
   "id": "8668618c",
   "metadata": {},
   "outputs": [
    {
     "data": {
      "image/png": "[encoded data removed]",
      "text/plain": [
       "<Figure size 432x288 with 2 Axes>"
      ]
     },
     "metadata": {
      "needs_background": "light"
     },
     "output_type": "display_data"
    }
   ],
   "source": [
    "prices = df.groupby('Product').mean()['Price Each']\n",
    "\n",
    "fig, ax1 = plt.subplots()\n",
    "ax2 = ax1.twinx()\n",
    "\n",
    "ax1.bar(products, quantities, color='g')\n",
    "ax1.set_ylabel('Quantity Ordered')\n",
    "ax1.tick_params(axis='y', colors='g')\n",
    "\n",
    "ax2.plot(products, prices, color='b')\n",
    "ax2.set_ylabel('Price ($)')\n",
    "ax2.tick_params(axis='y', colors='b')\n",
    "\n",
    "ax1.set_xlabel('Product')\n",
    "ax1.tick_params(axis='x', labelrotation=90)\n",
    "\n",
    "plt.show()"
   ]
  }
 ],
 "metadata": {
  "kernelspec": {
   "display_name": "Python 3 (ipykernel)",
   "language": "python",
   "name": "python3"
  },
  "language_info": {
   "codemirror_mode": {
    "name": "ipython",
    "version": 3
   },
   "file_extension": ".py",
   "mimetype": "text/x-python",
   "name": "python",
   "nbconvert_exporter": "python",
   "pygments_lexer": "ipython3",
   "version": "3.7.2"
  }
 },
 "nbformat": 4,
 "nbformat_minor": 5
}
